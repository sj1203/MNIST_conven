{
 "cells": [
  {
   "cell_type": "code",
   "execution_count": null,
   "metadata": {
    "colab": {},
    "colab_type": "code",
    "id": "313TKa38khIH"
   },
   "outputs": [],
   "source": [
    "import tensorflow as tf\n",
    "from tensorflow import keras\n",
    "from tensorflow.keras import layers\n",
    "import numpy as np\n"
   ]
  },
  {
   "cell_type": "code",
   "execution_count": null,
   "metadata": {
    "colab": {
     "base_uri": "https://localhost:8080/",
     "height": 69
    },
    "colab_type": "code",
    "id": "fhGhnn2HlTOL",
    "outputId": "293731b7-ec03-439a-c514-da7b1f12d5f2"
   },
   "outputs": [
    {
     "name": "stdout",
     "output_type": "stream",
     "text": [
      "x_train shape:  (60000, 28, 28, 1)\n",
      "60000 train sample\n",
      "10000 test semple\n"
     ]
    }
   ],
   "source": [
    "#prepare  the data\n",
    "\n",
    "num_classes = 10\n",
    "input_shape = (28,28,1)\n",
    "\n",
    "(x_train, y_train), (x_test,y_test) = keras.datasets.mnist.load_data()\n",
    "\n",
    "x_train = x_train.astype(\"float32\")/255\n",
    "x_test = x_test.astype(\"float32\")/255\n",
    "\n",
    "x_train = np.expand_dims(x_train, -1)\n",
    "x_test = np.expand_dims(x_test, -1)\n",
    "print(\"x_train shape: \", x_train.shape)\n",
    "print(x_train.shape[0], \"train sample\")\n",
    "print(x_test.shape[0], \"test semple\")\n",
    "\n",
    "\n",
    "#convert class into binary class\n",
    "y_train = keras.utils.to_categorical(y_train, num_classes)\n",
    "y_test = keras.utils.to_categorical(y_test, num_classes)\n",
    "\n"
   ]
  },
  {
   "cell_type": "code",
   "execution_count": null,
   "metadata": {
    "colab": {
     "base_uri": "https://localhost:8080/",
     "height": 399
    },
    "colab_type": "code",
    "id": "Yy8XdZ5Mrghw",
    "outputId": "dccfaf81-6418-4ef9-8abb-b5e3b3601fbe"
   },
   "outputs": [
    {
     "name": "stdout",
     "output_type": "stream",
     "text": [
      "Model: \"sequential\"\n",
      "_________________________________________________________________\n",
      "Layer (type)                 Output Shape              Param #   \n",
      "=================================================================\n",
      "conv2d (Conv2D)              (None, 26, 26, 32)        320       \n",
      "_________________________________________________________________\n",
      "max_pooling2d (MaxPooling2D) (None, 13, 13, 32)        0         \n",
      "_________________________________________________________________\n",
      "conv2d_1 (Conv2D)            (None, 11, 11, 64)        18496     \n",
      "_________________________________________________________________\n",
      "max_pooling2d_1 (MaxPooling2 (None, 5, 5, 64)          0         \n",
      "_________________________________________________________________\n",
      "flatten (Flatten)            (None, 1600)              0         \n",
      "_________________________________________________________________\n",
      "dropout (Dropout)            (None, 1600)              0         \n",
      "_________________________________________________________________\n",
      "dense (Dense)                (None, 10)                16010     \n",
      "=================================================================\n",
      "Total params: 34,826\n",
      "Trainable params: 34,826\n",
      "Non-trainable params: 0\n",
      "_________________________________________________________________\n"
     ]
    }
   ],
   "source": [
    "#build model\n",
    "\n",
    "model = keras.Sequential(\n",
    "    [\n",
    "     keras.Input(shape=input_shape),\n",
    "     layers.Conv2D(32, kernel_size = (3,3), activation=\"relu\"),\n",
    "     layers.MaxPooling2D(pool_size = (2,2)),\n",
    "     layers.Conv2D(64, kernel_size = (3,3), activation=\"relu\"),\n",
    "     layers.MaxPooling2D(pool_size = (2,2)),\n",
    "     layers.Flatten(),\n",
    "     layers.Dropout(0.5),\n",
    "     layers.Dense(num_classes, activation = \"softmax\"),\n",
    "    ]\n",
    ")\n",
    "\n",
    "model.summary()"
   ]
  },
  {
   "cell_type": "code",
   "execution_count": null,
   "metadata": {
    "colab": {
     "base_uri": "https://localhost:8080/",
     "height": 555
    },
    "colab_type": "code",
    "id": "O_xWTlp2tUdT",
    "outputId": "0f9930d3-35dd-47f3-ec47-415831b1ac58"
   },
   "outputs": [
    {
     "name": "stdout",
     "output_type": "stream",
     "text": [
      "Epoch 1/15\n",
      "422/422 [==============================] - 39s 92ms/step - loss: 0.3627 - accuracy: 0.8908 - val_loss: 0.0830 - val_accuracy: 0.9772\n",
      "Epoch 2/15\n",
      "422/422 [==============================] - 39s 93ms/step - loss: 0.1095 - accuracy: 0.9668 - val_loss: 0.0556 - val_accuracy: 0.9855\n",
      "Epoch 3/15\n",
      "422/422 [==============================] - 39s 92ms/step - loss: 0.0817 - accuracy: 0.9751 - val_loss: 0.0468 - val_accuracy: 0.9887\n",
      "Epoch 4/15\n",
      "422/422 [==============================] - 39s 92ms/step - loss: 0.0680 - accuracy: 0.9784 - val_loss: 0.0412 - val_accuracy: 0.9893\n",
      "Epoch 5/15\n",
      "422/422 [==============================] - 38s 90ms/step - loss: 0.0586 - accuracy: 0.9819 - val_loss: 0.0370 - val_accuracy: 0.9903\n",
      "Epoch 6/15\n",
      "422/422 [==============================] - 38s 90ms/step - loss: 0.0537 - accuracy: 0.9835 - val_loss: 0.0337 - val_accuracy: 0.9913\n",
      "Epoch 7/15\n",
      "422/422 [==============================] - 38s 90ms/step - loss: 0.0483 - accuracy: 0.9847 - val_loss: 0.0317 - val_accuracy: 0.9917\n",
      "Epoch 8/15\n",
      "422/422 [==============================] - 38s 90ms/step - loss: 0.0448 - accuracy: 0.9860 - val_loss: 0.0302 - val_accuracy: 0.9918\n",
      "Epoch 9/15\n",
      "422/422 [==============================] - 38s 90ms/step - loss: 0.0411 - accuracy: 0.9869 - val_loss: 0.0326 - val_accuracy: 0.9918\n",
      "Epoch 10/15\n",
      "422/422 [==============================] - 38s 90ms/step - loss: 0.0395 - accuracy: 0.9871 - val_loss: 0.0315 - val_accuracy: 0.9915\n",
      "Epoch 11/15\n",
      "422/422 [==============================] - 38s 90ms/step - loss: 0.0364 - accuracy: 0.9888 - val_loss: 0.0309 - val_accuracy: 0.9920\n",
      "Epoch 12/15\n",
      "422/422 [==============================] - 37s 89ms/step - loss: 0.0355 - accuracy: 0.9881 - val_loss: 0.0285 - val_accuracy: 0.9930\n",
      "Epoch 13/15\n",
      "422/422 [==============================] - 37s 89ms/step - loss: 0.0337 - accuracy: 0.9887 - val_loss: 0.0313 - val_accuracy: 0.9908\n",
      "Epoch 14/15\n",
      "422/422 [==============================] - 37s 88ms/step - loss: 0.0319 - accuracy: 0.9892 - val_loss: 0.0304 - val_accuracy: 0.9918\n",
      "Epoch 15/15\n",
      "422/422 [==============================] - 37s 88ms/step - loss: 0.0302 - accuracy: 0.9904 - val_loss: 0.0311 - val_accuracy: 0.9925\n"
     ]
    },
    {
     "data": {
      "text/plain": [
       "<tensorflow.python.keras.callbacks.History at 0x7f3ebaebf518>"
      ]
     },
     "execution_count": 8,
     "metadata": {
      "tags": []
     },
     "output_type": "execute_result"
    }
   ],
   "source": [
    "# Train the model\n",
    "\n",
    "batch_size = 128\n",
    "epochs = 15\n",
    "\n",
    "model.compile(\n",
    "    loss = \"categorical_crossentropy\",\n",
    "    optimizer = \"adam\",\n",
    "    metrics = [\"accuracy\"],\n",
    ")\n",
    "model.fit(\n",
    "    x_train,\n",
    "    y_train,\n",
    "    batch_size = batch_size,\n",
    "    epochs = epochs,\n",
    "    validation_split = 0.1\n",
    ")"
   ]
  },
  {
   "cell_type": "code",
   "execution_count": null,
   "metadata": {
    "colab": {
     "base_uri": "https://localhost:8080/",
     "height": 52
    },
    "colab_type": "code",
    "id": "-EMRr36HufTh",
    "outputId": "19d221dd-051d-497a-e2bd-213c949da638"
   },
   "outputs": [
    {
     "name": "stdout",
     "output_type": "stream",
     "text": [
      "Test loss:  0.02472785674035549\n",
      "Test accuracy:  0.9918000102043152\n"
     ]
    }
   ],
   "source": [
    "#evaluate the model\n",
    "\n",
    "score = model.evaluate(x_test, y_test, verbose=0)\n",
    "print(\"Test loss: \", score[0])\n",
    "print(\"Test accuracy: \", score[1])\n"
   ]
  },
  {
   "cell_type": "code",
   "execution_count": null,
   "metadata": {
    "colab": {},
    "colab_type": "code",
    "id": "dqIszSzPvTSH"
   },
   "outputs": [],
   "source": []
  }
 ],
 "metadata": {
  "colab": {
   "collapsed_sections": [],
   "name": "MNIST_convent.ipynb",
   "provenance": []
  },
  "kernelspec": {
   "display_name": "Python 3",
   "language": "python",
   "name": "python3"
  },
  "language_info": {
   "codemirror_mode": {
    "name": "ipython",
    "version": 3
   },
   "file_extension": ".py",
   "mimetype": "text/x-python",
   "name": "python",
   "nbconvert_exporter": "python",
   "pygments_lexer": "ipython3",
   "version": "3.7.6"
  }
 },
 "nbformat": 4,
 "nbformat_minor": 1
}
